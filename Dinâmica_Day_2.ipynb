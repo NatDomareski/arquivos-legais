{
  "nbformat": 4,
  "nbformat_minor": 0,
  "metadata": {
    "colab": {
      "provenance": [],
      "authorship_tag": "ABX9TyNTuI3aALy2Z6sJ65lse5U7",
      "include_colab_link": true
    },
    "kernelspec": {
      "name": "python3",
      "display_name": "Python 3"
    },
    "language_info": {
      "name": "python"
    }
  },
  "cells": [
    {
      "cell_type": "markdown",
      "metadata": {
        "id": "view-in-github",
        "colab_type": "text"
      },
      "source": [
        "<a href=\"https://colab.research.google.com/github/NatDomareski/arquivos-legais/blob/main/Din%C3%A2mica_Day_2.ipynb\" target=\"_parent\"><img src=\"https://colab.research.google.com/assets/colab-badge.svg\" alt=\"Open In Colab\"/></a>"
      ]
    },
    {
      "cell_type": "markdown",
      "source": [
        "# Nome: Natasha Domareski\n",
        "# RID: #39319"
      ],
      "metadata": {
        "id": "iYyTsnXIAeZi"
      }
    },
    {
      "cell_type": "markdown",
      "source": [
        "# **Questão 1** \n",
        "Classifique os tipos de dados das seguintes variáris"
      ],
      "metadata": {
        "id": "PzxFbs4df7nZ"
      }
    },
    {
      "cell_type": "code",
      "execution_count": null,
      "metadata": {
        "colab": {
          "base_uri": "https://localhost:8080/"
        },
        "id": "VA-CRcwvfzeR",
        "outputId": "450ad20e-afe1-4408-e8c1-6b24156811a2"
      },
      "outputs": [
        {
          "output_type": "execute_result",
          "data": {
            "text/plain": [
              "int"
            ]
          },
          "metadata": {},
          "execution_count": 1
        }
      ],
      "source": [
        "x = 5\n",
        "\n",
        "type(x)"
      ]
    },
    {
      "cell_type": "code",
      "source": [
        "x = 5.0\n",
        "\n",
        "type(x)"
      ],
      "metadata": {
        "colab": {
          "base_uri": "https://localhost:8080/"
        },
        "id": "bnY4gcVLjWv4",
        "outputId": "a08cb3ca-1ffe-4fc0-ad3e-2344b49ef69a"
      },
      "execution_count": null,
      "outputs": [
        {
          "output_type": "execute_result",
          "data": {
            "text/plain": [
              "float"
            ]
          },
          "metadata": {},
          "execution_count": 2
        }
      ]
    },
    {
      "cell_type": "code",
      "source": [
        "x = 5.5\n",
        "type(x)"
      ],
      "metadata": {
        "colab": {
          "base_uri": "https://localhost:8080/"
        },
        "id": "uC4meylpjbNg",
        "outputId": "1a059563-91e4-4c3f-f27a-b6563b4bd786"
      },
      "execution_count": null,
      "outputs": [
        {
          "output_type": "execute_result",
          "data": {
            "text/plain": [
              "float"
            ]
          },
          "metadata": {},
          "execution_count": 3
        }
      ]
    },
    {
      "cell_type": "code",
      "source": [
        "x = 'DNC'\n",
        "type(x)"
      ],
      "metadata": {
        "colab": {
          "base_uri": "https://localhost:8080/"
        },
        "id": "r4F3faAhjeOp",
        "outputId": "7662c76a-1135-41a6-b2f2-e4e54e8f3da5"
      },
      "execution_count": null,
      "outputs": [
        {
          "output_type": "execute_result",
          "data": {
            "text/plain": [
              "str"
            ]
          },
          "metadata": {},
          "execution_count": 4
        }
      ]
    },
    {
      "cell_type": "code",
      "source": [
        "x = 1/2\n",
        "type(x)"
      ],
      "metadata": {
        "colab": {
          "base_uri": "https://localhost:8080/"
        },
        "id": "31FyONHOjgxq",
        "outputId": "7638cb02-3bdd-4d04-b22a-2a79f63a706c"
      },
      "execution_count": null,
      "outputs": [
        {
          "output_type": "execute_result",
          "data": {
            "text/plain": [
              "float"
            ]
          },
          "metadata": {},
          "execution_count": 5
        }
      ]
    },
    {
      "cell_type": "code",
      "source": [
        "x = 0.5*2\n",
        "type(x)"
      ],
      "metadata": {
        "colab": {
          "base_uri": "https://localhost:8080/"
        },
        "id": "xMMI9sZlji8f",
        "outputId": "070e7ca7-5c0b-419f-9e53-c82605be93ab"
      },
      "execution_count": null,
      "outputs": [
        {
          "output_type": "execute_result",
          "data": {
            "text/plain": [
              "float"
            ]
          },
          "metadata": {},
          "execution_count": 6
        }
      ]
    },
    {
      "cell_type": "code",
      "source": [
        "x = 2**4\n",
        "type(x)"
      ],
      "metadata": {
        "colab": {
          "base_uri": "https://localhost:8080/"
        },
        "id": "q6A9sYjLjmJR",
        "outputId": "9d802220-75c1-42cc-8095-74609d128be6"
      },
      "execution_count": null,
      "outputs": [
        {
          "output_type": "execute_result",
          "data": {
            "text/plain": [
              "int"
            ]
          },
          "metadata": {},
          "execution_count": 7
        }
      ]
    },
    {
      "cell_type": "code",
      "source": [
        "x = 2 + 4\n",
        "type(x)"
      ],
      "metadata": {
        "colab": {
          "base_uri": "https://localhost:8080/"
        },
        "id": "puYxv0ILjpRn",
        "outputId": "bc5932ae-98de-40f5-b492-39ca209bdc8a"
      },
      "execution_count": null,
      "outputs": [
        {
          "output_type": "execute_result",
          "data": {
            "text/plain": [
              "int"
            ]
          },
          "metadata": {},
          "execution_count": 8
        }
      ]
    },
    {
      "cell_type": "code",
      "source": [
        "x = 1000000000000\n",
        "type(x)"
      ],
      "metadata": {
        "colab": {
          "base_uri": "https://localhost:8080/"
        },
        "id": "x-kkn7gEjrog",
        "outputId": "40e43906-65f9-4381-809d-d007f2806a9b"
      },
      "execution_count": null,
      "outputs": [
        {
          "output_type": "execute_result",
          "data": {
            "text/plain": [
              "int"
            ]
          },
          "metadata": {},
          "execution_count": 9
        }
      ]
    },
    {
      "cell_type": "code",
      "source": [
        "x = int(input('Insira um dado: '))\n",
        "\n",
        "type(x)"
      ],
      "metadata": {
        "colab": {
          "base_uri": "https://localhost:8080/"
        },
        "id": "Vvmk1MHxjucZ",
        "outputId": "1dfd0fa2-347e-4e95-ade5-b8868f4519b6"
      },
      "execution_count": null,
      "outputs": [
        {
          "output_type": "stream",
          "name": "stdout",
          "text": [
            "Insira um dado: 5\n",
            "5\n"
          ]
        },
        {
          "output_type": "execute_result",
          "data": {
            "text/plain": [
              "int"
            ]
          },
          "metadata": {},
          "execution_count": 10
        }
      ]
    },
    {
      "cell_type": "code",
      "source": [
        "x = float(input('Insira um dado: '))\n",
        "\n",
        "type(x)"
      ],
      "metadata": {
        "colab": {
          "base_uri": "https://localhost:8080/"
        },
        "id": "MwN_36Tfj85I",
        "outputId": "73b77a8d-df68-4995-abbf-7f5474a897fd"
      },
      "execution_count": null,
      "outputs": [
        {
          "name": "stdout",
          "output_type": "stream",
          "text": [
            "Insira um dado: 524\n"
          ]
        },
        {
          "output_type": "execute_result",
          "data": {
            "text/plain": [
              "float"
            ]
          },
          "metadata": {},
          "execution_count": 11
        }
      ]
    },
    {
      "cell_type": "code",
      "source": [
        "x = input('Insira um dado: ')\n",
        "type(x)"
      ],
      "metadata": {
        "colab": {
          "base_uri": "https://localhost:8080/"
        },
        "id": "iEFPOvx3kDWQ",
        "outputId": "c165cf64-cee7-4405-b38e-7983e81b1990"
      },
      "execution_count": null,
      "outputs": [
        {
          "name": "stdout",
          "output_type": "stream",
          "text": [
            "Insira um dado: 452\n"
          ]
        },
        {
          "output_type": "execute_result",
          "data": {
            "text/plain": [
              "str"
            ]
          },
          "metadata": {},
          "execution_count": 12
        }
      ]
    },
    {
      "cell_type": "code",
      "source": [
        "x = input('Insira um dado: ')\n",
        "type(x)"
      ],
      "metadata": {
        "colab": {
          "base_uri": "https://localhost:8080/"
        },
        "id": "RonAzx4HkLpy",
        "outputId": "0fc3a096-6f1c-4280-a7d5-90ec8a29e958"
      },
      "execution_count": null,
      "outputs": [
        {
          "name": "stdout",
          "output_type": "stream",
          "text": [
            "Insira um dado: 45\n"
          ]
        },
        {
          "output_type": "execute_result",
          "data": {
            "text/plain": [
              "str"
            ]
          },
          "metadata": {},
          "execution_count": 13
        }
      ]
    },
    {
      "cell_type": "markdown",
      "source": [
        "# **Questão 2**\n",
        "Faça um print com duas linhas tracejadas acima e duas abaixo com 50 linhas em cada uma delas e no meio coloque 'DS06 - DNC'"
      ],
      "metadata": {
        "id": "Y1Jk5vNPkaq3"
      }
    },
    {
      "cell_type": "code",
      "source": [
        "print('-'*50)\n",
        "print('-'*50)\n",
        "print('-'*20, 'DS6 - DNC', '-'*19)\n",
        "print('-'*50)\n",
        "print('-'*50)"
      ],
      "metadata": {
        "colab": {
          "base_uri": "https://localhost:8080/"
        },
        "id": "X9hiUtOHkxbe",
        "outputId": "9978681e-65b2-4d4d-8e58-d3716a91e096"
      },
      "execution_count": null,
      "outputs": [
        {
          "output_type": "stream",
          "name": "stdout",
          "text": [
            "--------------------------------------------------\n",
            "--------------------------------------------------\n",
            "-------------------- DS6 - DNC -------------------\n",
            "--------------------------------------------------\n",
            "--------------------------------------------------\n"
          ]
        }
      ]
    },
    {
      "cell_type": "markdown",
      "source": [
        "# **Questão 3**\n",
        "Você acabou de se formar na turma 05 de Formação em dados e conseguiu um emprego de um cientista de dados jr. com um salário de R$ 10.000,00 mensais. Você quer calcular quanto conseguirá guargar na poupança ao final do mês depois que pagar suas contas. Considere os dados abaixo para fazer um print igual ao que está em anexo."
      ],
      "metadata": {
        "id": "ZZ-XCl1rlHkv"
      }
    },
    {
      "cell_type": "code",
      "source": [
        "salario_cientista_de_dados = 10000.00\n",
        "parcela_bmw = 2500.45\n",
        "parcela_apartamento = 3500.50\n",
        "veterinaria_romeuzinho = 500.00\n",
        "luz = 100.80\n",
        "agua = 80.35\n",
        "condominio = 800.44\n",
        "gas = 150.65\n",
        "\n",
        "\n",
        "poupanca = salario_cientista_de_dados - parcela_bmw - parcela_apartamento - veterinaria_romeuzinho - luz - agua - condominio - gas\n",
        "\n",
        "\n",
        "print('*'*100)\n",
        "print(f'Seu salário é de cientista de dados jr é de R${salario_cientista_de_dados} e seus gastos estão dispostos a seguir')\n",
        "print(f'Parcela da BMW = R$ {parcela_bmw}')\n",
        "print(f'Parcela do apartamento = R$ {parcela_apartamento}')\n",
        "print(f'Veterinário do Romeuzinho = R$ {veterinaria_romeuzinho}')\n",
        "print(f'Conta de luz = R$ {luz}')\n",
        "print(f'Conta de água = R$ {agua}')\n",
        "print(f'Conta de condomínio = R$ {condominio}')\n",
        "print(f'Conta de gás = R$ {gas}')\n",
        "print('*'*100)\n",
        "print(f'O valor disponível para colocar na poupança é de: R$ {poupanca}')"
      ],
      "metadata": {
        "colab": {
          "base_uri": "https://localhost:8080/"
        },
        "id": "ZjxzJ4eIlnNg",
        "outputId": "2136afaa-2b8f-4341-bfa5-93999672c998"
      },
      "execution_count": null,
      "outputs": [
        {
          "output_type": "stream",
          "name": "stdout",
          "text": [
            "****************************************************************************************************\n",
            "Seu salário é de cientista de dados jr é de R$10000.0 e seus gastos estão dispostos a seguir\n",
            "Parcela da BMW = R$ 2500.45\n",
            "Parcela do apartamento = R$ 3500.5\n",
            "Veterinário do Romeuzinho = R$ 500.0\n",
            "Conta de luz = R$ 100.8\n",
            "Conta de água = R$ 80.35\n",
            "Conta de condomínio = R$ 800.44\n",
            "Conta de gás = R$ 150.65\n",
            "****************************************************************************************************\n",
            "O valor disponível para colocar na poupança é de: R$ 2366.81\n"
          ]
        }
      ]
    },
    {
      "cell_type": "markdown",
      "source": [
        "# **Questão 4**\n"
      ],
      "metadata": {
        "id": "6JCEh-vioqcf"
      }
    },
    {
      "cell_type": "code",
      "source": [
        "formacao_em_dados = 20000.00\n",
        "formacao_em_projetos = 15000.00\n",
        "formacao_em_marketing = 13000.00\n",
        "formacao_em_produto = 18000.00\n",
        "formacao_em_tecnologia = 19000.00\n",
        "\n",
        "x = int(input('Qual curso você quer escolher? \\n1-Formação em dados \\n2-Formação em Projetos \\n3-Formação em Marketing \\n4-Formação em Produto \\n5-Formação em Tecnologia \\n'))\n",
        "\n",
        "if x == 1 :\n",
        "  print(f'Você escolheu o curso Formação em Dados no valor de R$ {formacao_em_dados} que começará no próximo mês')\n",
        "\n",
        "elif x == 2 :\n",
        "  print(f'Você escolheu o curso Formação em Projetos no valor de R$ {formacao_em_projetos} que começará no próximo mês')\n",
        "\n",
        "elif x == 3 :\n",
        "  print(f'Você escolheu o curso Formação em Marketing no valor de R$ {formacao_em_marketing} que começará no próximo mês')\n",
        "\n",
        "elif x == 4 :\n",
        "  print(f'Você escolheu o curso Formação em Produto no valor de R$ {formacao_em_produto} que começará no próximo mês')\n",
        "\n",
        "elif x == 5 :\n",
        "  print(f'Você escolheu o curso Formação em Tecnologia no valor de R$ {formacao_em_tecnologia} que começará no próximo mês')\n",
        "\n",
        "else:\n",
        "  print('Didite um valor correspondente a um curso de nossas formações.\\n1-Formação em dados \\n2-Formação em Projetos \\n3-Formação em Marketing \\n4-Formação em Produto \\n5-Formação em Tecnologia \\n')\n",
        "\n",
        "\n"
      ],
      "metadata": {
        "colab": {
          "base_uri": "https://localhost:8080/"
        },
        "id": "fSa_lc0kop4P",
        "outputId": "a2448209-7516-4894-9dcc-791e0c0a2405"
      },
      "execution_count": null,
      "outputs": [
        {
          "output_type": "stream",
          "name": "stdout",
          "text": [
            "Qual curso você quer escolher? \n",
            "1-Formação em dados \n",
            "2-Formação em Projetos \n",
            "3-Formação em Marketing \n",
            "4-Formação em Produto \n",
            "5-Formação em Tecnologia \n",
            "4\n",
            "Você escolheu o curso Formação em Produto no valor de R$ 18000.0 que começará no próximo mês\n"
          ]
        }
      ]
    },
    {
      "cell_type": "markdown",
      "source": [
        "# **Questão 5**"
      ],
      "metadata": {
        "id": "xjOhZFymq7Pg"
      }
    },
    {
      "cell_type": "code",
      "source": [
        "cursos = ('dados', 20000.00, 'projetos',15000.00, 'marketing', 13000.00, 'produto', 18000.00, 'tecnologia', 19000.00)\n",
        "\n",
        "\n",
        "soma = 0\n",
        "soma_media = 0\n",
        "\n",
        "for i in range(0,10,2):\n",
        "  x = int(input(f'Quantas vendas tivemos na formação em {cursos[i]}? '))\n",
        "  soma_media += x\n",
        "  y = cursos[i+1]*x\n",
        "  soma += y\n",
        "\n",
        "print(f'A receita total do mês é de R$ {soma}')\n",
        "\n",
        "media = soma / soma_media\n",
        "print(f'A receita média geral é de R$ {media}')\n",
        "if soma >= 2000000.00 :\n",
        "  print('Parabéns!!! A DNC bateu a meta do mês')\n",
        "\n",
        "else: \n",
        "  print('Esse mês não batemos a meta, porém mês que em vamos vir mais forte para recuperar')"
      ],
      "metadata": {
        "colab": {
          "base_uri": "https://localhost:8080/"
        },
        "id": "nqflypP-rAch",
        "outputId": "6029af69-4a6b-4b40-a2d8-b8c0c414e752"
      },
      "execution_count": null,
      "outputs": [
        {
          "output_type": "stream",
          "name": "stdout",
          "text": [
            "Quantas vendas tivemos na formação em dados? 1\n",
            "Quantas vendas tivemos na formação em projetos? 1\n",
            "Quantas vendas tivemos na formação em marketing? 1\n",
            "Quantas vendas tivemos na formação em produto? 1\n",
            "Quantas vendas tivemos na formação em tecnologia? 1\n",
            "A receita total do mês é de R$ 85000.0\n",
            "A receita média geral é de R$ 17000.0\n",
            "Esse mês não batemos a meta, porém mês que em vamos vir mais forte para recuperar\n"
          ]
        }
      ]
    },
    {
      "cell_type": "markdown",
      "source": [
        "# **Questão 6**"
      ],
      "metadata": {
        "id": "TctY26bVuq0A"
      }
    },
    {
      "cell_type": "code",
      "source": [
        "x = int(input('Até qual número deve se fazer a somatória? '))\n",
        "\n",
        "soma = 0\n",
        "for i in range(x+1):\n",
        "\n",
        "  soma += i\n",
        "\n",
        "print(f'O valor da soma é de {soma}')\n"
      ],
      "metadata": {
        "colab": {
          "base_uri": "https://localhost:8080/"
        },
        "id": "9Z59DpBJus_n",
        "outputId": "1eba269b-c0d0-4753-b4be-562286330e94"
      },
      "execution_count": null,
      "outputs": [
        {
          "output_type": "stream",
          "name": "stdout",
          "text": [
            "Até qual número deve se fazer a somatória? 5\n",
            "O valor da soma é de 15\n"
          ]
        }
      ]
    },
    {
      "cell_type": "markdown",
      "source": [
        "# Questão **7**"
      ],
      "metadata": {
        "id": "lNcX9d1PvdJy"
      }
    },
    {
      "cell_type": "code",
      "source": [
        "x = input('Digite um comando: ')\n",
        "\n",
        "while x == 'p' :\n",
        "  x = input('Digite um comando: ')\n",
        "  if x == 'p': \n",
        "    print('Próxima música')\n",
        "\n",
        "  else:\n",
        "    print('Fechando o app \\nAté a próxima')\n",
        "    break"
      ],
      "metadata": {
        "colab": {
          "base_uri": "https://localhost:8080/"
        },
        "id": "y8fusCMEvfP_",
        "outputId": "66fb97a7-9c7e-4974-da62-c2da49965218"
      },
      "execution_count": null,
      "outputs": [
        {
          "output_type": "stream",
          "name": "stdout",
          "text": [
            "Digite um comando: p\n",
            "Digite um comando: p\n",
            "Próxima música\n",
            "Digite um comando: p\n",
            "Próxima música\n",
            "Digite um comando: p\n",
            "Próxima música\n",
            "Digite um comando: m\n",
            "Fechando o app \n",
            "Até a próxima\n"
          ]
        }
      ]
    },
    {
      "cell_type": "markdown",
      "source": [
        "# **Questão 8**"
      ],
      "metadata": {
        "id": "yPaz1Yc1wDWI"
      }
    },
    {
      "cell_type": "code",
      "source": [
        "x = input('Insira o nome do aluno: ')\n",
        "y = input('Insira o nome do aluno: ')\n",
        "z = input('Insira o nome do aluno: ')\n",
        "\n",
        "nomes = (x,y,z)\n",
        "\n",
        "for n in nomes:\n",
        "  print('Parabéns por toda sua ajuda no projeto, você está sendo essencial para o resultado que estamos atingindo',n,'!')"
      ],
      "metadata": {
        "colab": {
          "base_uri": "https://localhost:8080/"
        },
        "id": "DOaZemMNwIRw",
        "outputId": "26e8ad6d-ce18-4c18-edb3-696972ab7220"
      },
      "execution_count": null,
      "outputs": [
        {
          "output_type": "stream",
          "name": "stdout",
          "text": [
            "Insira o nome do aluno: Natasha\n",
            "Insira o nome do aluno: Pablo\n",
            "Insira o nome do aluno: Teste\n",
            "Parabéns por toda sua ajuda no projeto, você está sendo essencial para o resultado que estamos atingindo Natasha !\n",
            "Parabéns por toda sua ajuda no projeto, você está sendo essencial para o resultado que estamos atingindo Pablo !\n",
            "Parabéns por toda sua ajuda no projeto, você está sendo essencial para o resultado que estamos atingindo Teste !\n"
          ]
        }
      ]
    },
    {
      "cell_type": "markdown",
      "source": [
        "# **Questão 9**"
      ],
      "metadata": {
        "id": "29vPCD8txOK4"
      }
    },
    {
      "cell_type": "code",
      "source": [
        "notas = []\n",
        "\n",
        "\n",
        "while True: \n",
        "  x = int(input('Qual é o valor da nota? '))\n",
        "  notas.append(x)\n",
        "\n",
        "  continuar = input('Gostaria de adicionar mais notas? (s/n)')\n",
        "  if continuar == 'n':\n",
        "    break\n",
        "\n",
        "total_nota2 = notas.count(2)\n",
        "total_nota5 = notas.count(5)\n",
        "total_nota10 = notas.count(10)\n",
        "total_nota20 = notas.count(20)\n",
        "total_nota50 = notas.count(50)\n",
        "total_nota100 = notas.count(100)\n",
        "total_nota200 = notas.count(200)\n",
        "\n",
        "soma = sum(notas)\n",
        "\n",
        "print('-'*50)\n",
        "print(f'Você tem {total_nota2} notas de 2 reais')\n",
        "print(f'Você tem {total_nota5} notas de 5 reais')\n",
        "print(f'Você tem {total_nota10} notas de 10 reais')\n",
        "print(f'Você tem {total_nota20} notas de 20 reais')\n",
        "print(f'Você tem {total_nota50} notas de 50 reais')\n",
        "print(f'Você tem {total_nota100} notas de 100 reais')\n",
        "print(f'Você tem {total_nota200} notas de 200 reais')\n",
        "\n",
        "print('-'*50)\n",
        "print(f'O valor total das notas é de R$ {soma:.2f}')"
      ],
      "metadata": {
        "colab": {
          "base_uri": "https://localhost:8080/"
        },
        "id": "dkcHiEC_2HF5",
        "outputId": "ab47ca4c-31e7-4167-cbac-4e2c45fd34db"
      },
      "execution_count": null,
      "outputs": [
        {
          "output_type": "stream",
          "name": "stdout",
          "text": [
            "Qual é o valor da nota? 2\n",
            "Gostaria de adicionar mais notas? (s/n)s\n",
            "Qual é o valor da nota? 5\n",
            "Gostaria de adicionar mais notas? (s/n)s\n",
            "Qual é o valor da nota? 10\n",
            "Gostaria de adicionar mais notas? (s/n)s\n",
            "Qual é o valor da nota? 20\n",
            "Gostaria de adicionar mais notas? (s/n)s\n",
            "Qual é o valor da nota? 50\n",
            "Gostaria de adicionar mais notas? (s/n)s\n",
            "Qual é o valor da nota? 5\n",
            "Gostaria de adicionar mais notas? (s/n)s\n",
            "Qual é o valor da nota? 5\n",
            "Gostaria de adicionar mais notas? (s/n)s\n",
            "Qual é o valor da nota? 10\n",
            "Gostaria de adicionar mais notas? (s/n)n\n",
            "--------------------------------------------------\n",
            "Você tem 1 notas de 2 reais\n",
            "Você tem 3 notas de 5 reais\n",
            "Você tem 2 notas de 10 reais\n",
            "Você tem 1 notas de 20 reais\n",
            "Você tem 1 notas de 50 reais\n",
            "Você tem 0 notas de 100 reais\n",
            "Você tem 0 notas de 200 reais\n",
            "--------------------------------------------------\n",
            "O valor total das notas é de R$ 107.00\n"
          ]
        }
      ]
    },
    {
      "cell_type": "markdown",
      "source": [
        "# **Questão 10**"
      ],
      "metadata": {
        "id": "LiabTDw3ylS5"
      }
    },
    {
      "cell_type": "code",
      "source": [
        "membros = [{'nome': 'Isabel', 'RID': '1234', 'idade': 52, 'Cidade':'Guarulhos', 'Cargo': 'PO'},\n",
        "           {'nome': 'Natasha', 'RID': '5678', 'idade': 26, 'Cidade':'Londrina', 'Cargo': 'Time'},\n",
        "           {'nome': 'Daniela', 'RID': '9012', 'idade': 31, 'Cidade':'Rio de Janeiro', 'Cargo': 'Tester'}]\n",
        "\n",
        "for pessoa in membros:\n",
        "  for key, val in pessoa.items():\n",
        "    print(f'{key} : {val}')\n",
        "  "
      ],
      "metadata": {
        "colab": {
          "base_uri": "https://localhost:8080/"
        },
        "id": "4Fjarc4Uyn7g",
        "outputId": "89fcf257-7902-4a3b-c835-70d3b0e779c0"
      },
      "execution_count": null,
      "outputs": [
        {
          "output_type": "stream",
          "name": "stdout",
          "text": [
            "nome : Isabel\n",
            "RID : 1234\n",
            "idade : 52\n",
            "Cidade : Guarulhos\n",
            "Cargo : PO\n",
            "nome : Natasha\n",
            "RID : 5678\n",
            "idade : 26\n",
            "Cidade : Londrina\n",
            "Cargo : Time\n",
            "nome : Daniela\n",
            "RID : 9012\n",
            "idade : 31\n",
            "Cidade : Rio de Janeiro\n",
            "Cargo : Tester\n"
          ]
        }
      ]
    },
    {
      "cell_type": "markdown",
      "source": [
        "# **Questão 11**"
      ],
      "metadata": {
        "id": "w9Wh3XGL0nZ4"
      }
    },
    {
      "cell_type": "code",
      "source": [
        "valor = 0\n",
        "\n",
        "while True:\n",
        "  x = float(input('Insira o valor da nota: '))\n",
        "\n",
        "  valor = valor + x\n",
        "\n",
        "  continuar = input('Gostaria de adicionar mais notas? (s/n)')\n",
        "\n",
        "  if continuar == 'n':\n",
        "    break\n",
        "\n",
        "print(f'O valor total das notas é de R$ {valor:.2f}')"
      ],
      "metadata": {
        "colab": {
          "base_uri": "https://localhost:8080/"
        },
        "id": "RAgcD_UKxPyK",
        "outputId": "1d91d721-4b6c-4010-975b-db1a94b05c07"
      },
      "execution_count": null,
      "outputs": [
        {
          "output_type": "stream",
          "name": "stdout",
          "text": [
            "Insira o valor da nota: 2\n",
            "Gostaria de adicionar mais notas? (s/n)n\n",
            "O valor total das notas é de R$ 2.00\n"
          ]
        }
      ]
    },
    {
      "cell_type": "code",
      "source": [
        "def soma_notas(l):\n",
        "  total = 0\n",
        "  for val in l:\n",
        "    total = total + val\n",
        "  return total\n",
        "\n",
        "\n",
        "\n",
        "lista = []\n",
        "x = 1\n",
        "\n",
        "while x != 0:\n",
        "  x = int(input('Informe o valor da notas: '))\n",
        "  if x == 0:\n",
        "    break\n",
        "  lista.append(x)\n",
        "\n",
        "print(\"A soma total é R$\", soma_notas(lista))"
      ],
      "metadata": {
        "colab": {
          "base_uri": "https://localhost:8080/"
        },
        "id": "la2VJgq_SnB_",
        "outputId": "895be64b-800e-42b3-a490-f57deba05ca3"
      },
      "execution_count": null,
      "outputs": [
        {
          "output_type": "stream",
          "name": "stdout",
          "text": [
            "Informe o valor da notas: 2\n",
            "Informe o valor da notas: 2\n",
            "Informe o valor da notas: 5\n",
            "Informe o valor da notas: 4\n",
            "Informe o valor da notas: 1\n",
            "Informe o valor da notas: 0\n",
            "A soma total é R$ 14\n"
          ]
        }
      ]
    },
    {
      "cell_type": "code",
      "source": [
        "def soma_notas(*args):\n",
        "  total = 0\n",
        "  for val in args:\n",
        "    total = total + val\n",
        "\n",
        "  print('A soma total é:', total)\n",
        "  return total"
      ],
      "metadata": {
        "id": "fmAjH6CjTT6-"
      },
      "execution_count": null,
      "outputs": []
    },
    {
      "cell_type": "code",
      "source": [
        "dinheiro = soma_notas(5,5,10)"
      ],
      "metadata": {
        "colab": {
          "base_uri": "https://localhost:8080/"
        },
        "id": "A72yRXpvTiGW",
        "outputId": "7ee4e840-9312-449d-9810-258665438bd7"
      },
      "execution_count": null,
      "outputs": [
        {
          "output_type": "stream",
          "name": "stdout",
          "text": [
            "A soma total é: 20\n"
          ]
        }
      ]
    },
    {
      "cell_type": "code",
      "source": [
        "dinheiro"
      ],
      "metadata": {
        "colab": {
          "base_uri": "https://localhost:8080/"
        },
        "id": "yHFOPianTozO",
        "outputId": "6c13b3f2-ccb5-4a74-b459-719cbfe2a6de"
      },
      "execution_count": null,
      "outputs": [
        {
          "output_type": "execute_result",
          "data": {
            "text/plain": [
              "20"
            ]
          },
          "metadata": {},
          "execution_count": 114
        }
      ]
    }
  ]
}